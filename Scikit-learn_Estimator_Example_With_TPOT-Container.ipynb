{
 "cells": [
  {
   "cell_type": "code",
   "execution_count": 1,
   "metadata": {},
   "outputs": [
    {
     "name": "stdout",
     "output_type": "stream",
     "text": [
      "Execution role is arn:aws:iam::251344623468:role/service-role/AmazonSageMaker-ExecutionRole-20191017T203175\n",
      "Success - the MySageMakerInstance is in the ap-northeast-1.\n"
     ]
    }
   ],
   "source": [
    "# S3 prefix\n",
    "bucket = 'sagemaker-getting-start-test'\n",
    "prefix = 'sagemaker/scikit-tpot'\n",
    "\n",
    "# Import libraries\n",
    "from sagemaker import get_execution_role\n",
    "import boto3, sys, os\n",
    "import sagemaker\n",
    "\n",
    "sagemaker_session = sagemaker.Session()\n",
    "\n",
    "# Get a SageMaker-compatible role used by this Notebook Instance.\n",
    "role = get_execution_role()\n",
    "my_region = boto3.session.Session().region_name # set the region of the instance\n",
    "print(\"Execution role is \" + role)\n",
    "print(\"Success - the MySageMakerInstance is in the \" + my_region + \".\")"
   ]
  },
  {
   "cell_type": "code",
   "execution_count": 2,
   "metadata": {},
   "outputs": [
    {
     "name": "stdout",
     "output_type": "stream",
     "text": [
      "S3 error:  An error occurred (IllegalLocationConstraintException) when calling the CreateBucket operation: The unspecified location constraint is incompatible for the region specific endpoint this request was sent to.\n"
     ]
    }
   ],
   "source": [
    "s3 = boto3.resource('s3')\n",
    "\n",
    "try:\n",
    "    if my_region == 'ap-northeast-1':\n",
    "        s3.create_bucket(Bucket=bucket)\n",
    "    else:\n",
    "        s3.create_bucket(Bucket=bucket, CreateBucketConfiguration={'LocationConstraint': my_region})\n",
    "    print('S3 bucket created successfully')\n",
    "except Exception as e:\n",
    "    print('S3 error: ', e)"
   ]
  },
  {
   "cell_type": "code",
   "execution_count": 5,
   "metadata": {},
   "outputs": [],
   "source": [
    "import os\n",
    "\n",
    "# Create directory and upload data to S3\n",
    "os.makedirs('./data', exist_ok=True)\n",
    "WORK_DIRECTORY = 'data'\n",
    "train_input = sagemaker_session.upload_data(\"{}/iris.csv\".format(WORK_DIRECTORY), bucket=bucket, key_prefix=\"{}/{}\".format(prefix, WORK_DIRECTORY))"
   ]
  },
  {
   "cell_type": "code",
   "execution_count": 6,
   "metadata": {},
   "outputs": [
    {
     "name": "stdout",
     "output_type": "stream",
     "text": [
      "2020-01-11 02:11:09 Starting - Starting the training job...\n",
      "2020-01-11 02:11:11 Starting - Launching requested ML instances......\n",
      "2020-01-11 02:12:13 Starting - Preparing the instances for training...\n",
      "2020-01-11 02:13:02 Downloading - Downloading input data\n",
      "2020-01-11 02:13:02 Training - Downloading the training image...\n",
      "2020-01-11 02:13:40 Training - Training image download completed. Training in progress..\u001b[34mStarting the training.\u001b[0m\n",
      "\u001b[34mX shape: (150,4)\u001b[0m\n",
      "\u001b[34my shape: (150,1)\u001b[0m\n",
      "\u001b[34mWarning: xgboost.XGBClassifier is not available and will not be used by TPOT.\u001b[0m\n",
      "\u001b[34mGeneration 1 - Current best internal CV score: 0.9666666666666668\u001b[0m\n",
      "\u001b[34mGeneration 2 - Current best internal CV score: 0.9666666666666668\u001b[0m\n",
      "\u001b[34mGeneration 3 - Current best internal CV score: 0.9666666666666668\u001b[0m\n",
      "\u001b[34mGeneration 4 - Current best internal CV score: 0.9666666666666668\u001b[0m\n",
      "\u001b[34mGeneration 5 - Current best internal CV score: 0.9666666666666668\u001b[0m\n",
      "\u001b[34mGeneration 6 - Current best internal CV score: 0.9666666666666668\u001b[0m\n",
      "\u001b[34mGeneration 7 - Current best internal CV score: 0.9666666666666668\u001b[0m\n",
      "\u001b[34mGeneration 8 - Current best internal CV score: 0.9666666666666668\u001b[0m\n",
      "\n",
      "2020-01-11 02:14:42 Uploading - Uploading generated training model\n",
      "2020-01-11 02:14:42 Completed - Training job completed\n",
      "\u001b[34mGeneration 9 - Current best internal CV score: 0.9666666666666668\u001b[0m\n",
      "\u001b[34mGeneration 10 - Current best internal CV score: 0.9666666666666668\n",
      "\u001b[0m\n",
      "\u001b[34mBest pipeline: RandomForestClassifier(input_matrix, bootstrap=True, criterion=entropy, max_features=0.2, min_samples_leaf=8, min_samples_split=4, n_estimators=100)\u001b[0m\n",
      "\u001b[34mTPOT Accuracy score: 0.9333333333333333\u001b[0m\n",
      "\u001b[34mTPOTClassifier(config_dict=None, crossover_rate=0.1, cv=5,\n",
      "               disable_update_check=False, early_stop=None, generations=10,\n",
      "               max_eval_time_mins=5, max_time_mins=None, memory=None,\n",
      "               mutation_rate=0.9, n_jobs=1, offspring_size=None,\n",
      "               periodic_checkpoint_folder=None, population_size=10,\n",
      "               random_state=42, scoring=None, subsample=1.0, template=None,\n",
      "               use_dask=False, verbosity=2, warm_start=False)\u001b[0m\n",
      "\u001b[34mTraining completed.\u001b[0m\n",
      "\u001b[34m#015Optimization Progress:   0%|          | 0/110 [00:00<?, ?pipeline/s]#015Optimization Progress:   3%|▎         | 3/110 [00:00<00:16,  6.53pipeline/s]#015Optimization Progress:   4%|▎         | 4/110 [00:01<00:36,  2.91pipeline/s]#015Optimization Progress:   5%|▍         | 5/110 [00:01<00:37,  2.82pipeline/s]#015Optimization Progress:   6%|▋         | 7/110 [00:02<00:32,  3.21pipeline/s]#015Optimization Progress:   9%|▉         | 10/110 [00:02<00:23,  4.21pipeline/s]#015Optimization Progress:  10%|█         | 11/110 [00:03<00:44,  2.22pipeline/s]#015Optimization Progress:  12%|█▏        | 13/110 [00:03<00:36,  2.64pipeline/s]#015Optimization Progress:  14%|█▎        | 15/110 [00:04<00:31,  3.01pipeline/s]#015Optimization Progress:  15%|█▍        | 16/110 [00:04<00:35,  2.68pipeline/s]#015Optimization Progress:  15%|█▌        | 17/110 [00:04<00:36,  2.53pipeline/s]#015Optimization Progress:  16%|█▋        | 18/110 [00:05<00:36,  2.53pipeline/s]#015Optimization Progress:  17%|█▋        | 19/110 [00:05<00:36,  2.48pipeline/s]#015Optimization Progress:  18%|█▊        | 20/110 [00:06<00:35,  2.54pipeline/s]#015                                                                             #015#015Optimization Progress:  18%|█▊        | 20/110 [00:06<00:35,  2.54pipeline/s]#015Optimization Progress:  19%|█▉        | 21/110 [00:07<00:46,  1.90pipeline/s]#015Optimization Progress:  21%|██        | 23/110 [00:07<00:38,  2.28pipeline/s]#015Optimization Progress:  22%|██▏       | 24/110 [00:08<00:53,  1.61pipeline/s]#015Optimization Progress:  23%|██▎       | 25/110 [00:08<00:48,  1.76pipeline/s]#015Optimization Progress:  24%|██▎       | 26/110 [00:09<00:43,  1.95pipeline/s]#015Optimization Progress:  25%|██▍       | 27/110 [00:09<00:39,  2.12pipeline/s]#015Optimization Progress:  27%|██▋       | 30/110 [00:10<00:29,  2.69pipeline/s]#015                                                                             #015#015Optimization Progress:  27%|██▋       | 30/110 [00:10<00:29,  2.69pipeline/s]#015Optimization Progress:  28%|██▊       | 31/110 [00:11<00:51,  1.53pipeline/s]#015Optimization Progress:  29%|██▉       | 32/110 [00:11<00:45,  1.70pipeline/s]#015Optimization Progress:  30%|███       | 33/110 [00:12<00:41,  1.84pipeline/s]#015Optimization Progress:  31%|███       | 34/110 [00:13<00:54,  1.40pipeline/s]#015Optimization Progress:  32%|███▏      | 35/110 [00:14<00:55,  1.35pipeline/s]#015Optimization Progress:  33%|███▎      | 36/110 [00:14<00:46,  1.58pipeline/s]#015Optimization Progress:  34%|███▎      | 37/110 [00:15<00:41,  1.74pipeline/s]#015Optimization Progress:  35%|███▍      | 38/110 [00:15<00:38,  1.88pipeline/s]#015Optimization Progress:  35%|███▌      | 39/110 [00:16<00:52,  1.35pipeline/s]#015Optimization Progress:  36%|███▋      | 40/110 [00:17<00:45,  1.53pipeline/s]#015                                                                             #015#015Optimization Progress:  36%|███▋      | 40/110 [00:17<00:45,  1.53pipeline/s]#015Optimization Progress:  37%|███▋      | 41/110 [00:17<00:48,  1.42pipeline/s]#015Optimization Progress:  41%|████      | 45/110 [00:18<00:34,  1.90pipeline/s]#015Optimization Progress:  43%|████▎     | 47/110 [00:18<00:26,  2.34pipeline/s]#015Optimization Progress:  44%|████▎     | 48/110 [00:19<00:26,  2.30pipeline/s]#015Optimization Progress:  45%|████▍     | 49/110 [00:19<00:26,  2.27pipeline/s]#015                                                                             #015#015Optimization Progress:  45%|████▌     | 50/110 [00:19<00:26,  2.27pipeline/s]#015Optimization Progress:  45%|████▌     | 50/110 [00:20<00:24,  2.48pipeline/s]#015Optimization Progress:  46%|████▋     | 51/110 [00:21<00:36,  1.61pipeline/s]#015Optimization Progress:  47%|████▋     | 52/110 [00:21<00:32,  1.77pipeline/s]#015Optimization Progress:  48%|████▊     | 53/110 [00:22<00:30,  1.89pipeline/s]#015Optimization Progress:  49%|████▉     | 54/110 [00:22<00:28,  1.98pipeline/s]#015Optimization Progress:  50%|█████     | 55/110 [00:22<00:25,  2.13pipeline/s]#015Optimization Progress:  51%|█████     | 56/110 [00:23<00:33,  1.61pipeline/s]#015Optimization Progress:  52%|█████▏    | 57/110 [00:24<00:36,  1.46pipeline/s]#015Optimization Progress:  53%|█████▎    | 58/110 [00:25<00:31,  1.63pipeline/s]#015Optimization Progress:  54%|█████▎    | 59/110 [00:25<00:28,  1.78pipeline/s]#015Optimization Progress:  55%|█████▍    | 60/110 [00:26<00:26,  1.90pipeline/s]#015                                                                             #015#015Optimization Progress:  55%|█████▍    | 60/110 [00:26<00:26,  1.90pipeline/s]#015Optimization Progress:  55%|█████▌    | 61/110 [00:26<00:30,  1.63pipeline/s]#015Optimization Progress:  57%|█████▋    | 63/110 [00:27<00:23,  2.01pipeline/s]#015Optimization Progress:  58%|█████▊    | 64/110 [00:27<00:22,  2.09pipeline/s]#015Optimization Progress:  59%|█████▉    | 65/110 [00:28<00:21,  2.13pipeline/s]#015Optimization Progress:  60%|██████    | 66/110 [00:28<00:20,  2.17pipeline/s]#015Optimization Progress:  61%|██████    | 67/110 [00:29<00:19,  2.18pipeline/s]#015Optimization Progress:  62%|██████▏   | 68/110 [00:29<00:22,  1.90pipeline/s]#015Optimization Progress:  63%|██████▎   | 69/110 [00:30<00:20,  2.00pipeline/s]#015Optimization Progress:  64%|██████▎   | 70/110 [00:30<00:19,  2.08pipeline/s]#015                                                                             #015#015Optimization Progress:  64%|██████▎   | 70/110 [00:30<00:19,  2.08pipeline/s]#015Optimization Progress:  65%|██████▍   | 71/110 [00:31<00:23,  1.65pipeline/s]#015Optimization Progress:  65%|██████▌   | 72/110 [00:31<00:21,  1.80pipeline/s]#015Optimization Progress:  66%|██████▋   | 73/110 [00:32<00:21,  1.68pipeline/s]#015Optimization Progress:  67%|██████▋   | 74/110 [00:33<00:19,  1.83pipeline/s]#015Optimization Progress:  68%|██████▊   | 75/110 [00:33<00:17,  1.95pipeline/s]#015Optimization Progress:  69%|██████▉   | 76/110 [00:33<00:16,  2.02pipeline/s]#015Optimization Progress:  70%|███████   | 77/110 [00:34<00:15,  2.11pipeline/s]#015Optimization Progress:  71%|███████   | 78/110 [00:34<00:14,  2.15pipeline/s]#015Optimization Progress:  72%|███████▏  | 79/110 [00:35<00:16,  1.92pipeline/s]#015Optimization Progress:  73%|███████▎  | 80/110 [00:35<00:14,  2.01pipeline/s]#015                                                                             #015#015Optimization Progress:  73%|███████▎  | 80/110 [00:35<00:14,  2.01pipeline/s]#015Optimization Progress:  74%|███████▎  | 81/110 [00:36<00:18,  1.61pipeline/s]#015Optimization Progress:  75%|███████▌  | 83/110 [00:37<00:13,  2.00pipeline/s]#015Optimization Progress:  77%|███████▋  | 85/110 [00:37<00:10,  2.39pipeline/s]#015Optimization Progress:  78%|███████▊  | 86/110 [00:38<00:10,  2.36pipeline/s]#015Optimization Progress:  79%|███████▉  | 87/110 [00:38<00:09,  2.35pipeline/s]#015Optimization Progress:  80%|████████  | 88/110 [00:39<00:09,  2.33pipeline/s]#015Optimization Progress:  81%|████████  | 89/110 [00:39<00:10,  2.08pipeline/s]#015Optimization Progress:  82%|████████▏ | 90/110 [00:40<00:09,  2.20pipeline/s]#015                                                                             #015#015Optimization Progress:  82%|████████▏ | 90/110 [00:40<00:09,  2.20pipeline/s]#015Optimization Progress:  83%|████████▎ | 91/110 [00:41<00:12,  1.49pipeline/s]#015Optimization Progress:  84%|████████▎ | 92/110 [00:41<00:10,  1.65pipeline/s]#015Optimization Progress:  85%|████████▍ | 93/110 [00:42<00:09,  1.81pipeline/s]#015Optimization Progress:  85%|████████▌ | 94/110 [00:42<00:08,  1.92pipeline/s]#015Optimization Progress:  86%|████████▋ | 95/110 [00:42<00:07,  2.02pipeline/s]#015Optimization Progress:  87%|████████▋ | 96/110 [00:43<00:06,  2.08pipeline/s]#015Optimization Progress:  88%|████████▊ | 97/110 [00:43<00:06,  2.13pipeline/s]#015Optimization Progress:  89%|████████▉ | 98/110 [00:44<00:05,  2.19pipeline/s]#015Optimization Progress:  90%|█████████ | 99/110 [00:44<00:04,  2.20pipeline/s]#015Optimization Progress:  91%|█████████ | 100/110 [00:45<00:04,  2.23pipeline/s]#015                                                                              #015#015Optimization Progress:  91%|█████████ | 100/110 [00:45<00:04,  2.23pipeline/s]#015Optimization Progress:  92%|█████████▏| 101/110 [00:46<00:05,  1.70pipeline/s]#015Optimization Progress:  93%|█████████▎| 102/110 [00:46<00:04,  1.83pipeline/s]#015Optimization Progress:  95%|█████████▍| 104/110 [00:46<00:02,  2.22pipeline/s]#015Optimization Progress:  95%|█████████▌| 105/110 [00:47<00:02,  2.22pipeline/s]#015Optimization Progress:  96%|█████████▋| 106/110 [00:47<00:01,  2.23pipeline/s]#015Optimization Progress:  97%|█████████▋| 107/110 [00:49<00:02,  1.33pipeline/s]#015Optimization Progress:  98%|█████████▊| 108/110 [00:49<00:01,  1.52pipeline/s]#015Optimization Progress:  99%|█████████▉| 109/110 [00:50<00:00,  1.68pipeline/s]#015Optimization Progress: 100%|██████████| 110/110 [00:50<00:00,  1.82pipeline/s]#015                                                                              #015#015Optimization Progress: 100%|██████████| 110/110 [00:50<00:00,  1.82pipeline/s]#015                                                                              #015\u001b[0m\n"
     ]
    },
    {
     "name": "stdout",
     "output_type": "stream",
     "text": [
      "Training seconds: 106\n",
      "Billable seconds: 106\n"
     ]
    }
   ],
   "source": [
    "# train data and save a model\n",
    "account = sagemaker_session.boto_session.client('sts').get_caller_identity()['Account']\n",
    "region = sagemaker_session.boto_session.region_name\n",
    "container_name = 'sklearn-tpot-container'\n",
    "image_full = '{}.dkr.ecr.{}.amazonaws.com/{}:latest'.format(account, region, container_name)\n",
    "\n",
    "clf = sagemaker.estimator.Estimator(image_full, role, 1, 'ml.c4.2xlarge', \n",
    "                                    output_path=\"s3://{}/{}/output\".format(bucket, prefix),\n",
    "                                    sagemaker_session=sagemaker_session)\n",
    "\n",
    "params = dict(generations=10, populations=10, cv=5)\n",
    "clf.set_hyperparameters(**params)\n",
    "\n",
    "# training with the gradient boosting classifier model\n",
    "clf.fit(train_input)"
   ]
  },
  {
   "cell_type": "code",
   "execution_count": 7,
   "metadata": {},
   "outputs": [
    {
     "name": "stdout",
     "output_type": "stream",
     "text": [
      "--------------------------------------------------------------!"
     ]
    }
   ],
   "source": [
    "from sagemaker.predictor import csv_serializer\n",
    "predictor = clf.deploy(initial_instance_count=1, instance_type=\"ml.m4.xlarge\", serializer=csv_serializer)"
   ]
  },
  {
   "cell_type": "code",
   "execution_count": 19,
   "metadata": {},
   "outputs": [
    {
     "name": "stdout",
     "output_type": "stream",
     "text": [
      "test_data: (15, 4)\n"
     ]
    }
   ],
   "source": [
    "# load test payload\n",
    "import numpy as np\n",
    "import pandas as pd\n",
    "test_data = pd.read_csv(\"{}/payload_iris.csv\".format(WORK_DIRECTORY), header=None)\n",
    "test_X = test_data.iloc[:, :-1]\n",
    "test_y = test_data.iloc[:, [-1]]\n",
    "print(\"test_data: {}\".format(test_data.shape))"
   ]
  },
  {
   "cell_type": "code",
   "execution_count": 20,
   "metadata": {
    "scrolled": true
   },
   "outputs": [
    {
     "name": "stdout",
     "output_type": "stream",
     "text": [
      "Predicted values:\n",
      "[0. 0. 0. 0. 0. 1. 1. 1. 1. 1. 2. 2. 2. 2. 2.]\n"
     ]
    }
   ],
   "source": [
    "predictions = predictor.predict(test_data.values).decode('utf-8')\n",
    "predictions_array = np.fromstring(predictions, sep=' ') # and turn the prediction into an array\n",
    "print(\"Predicted values:\\n{}\".format(predictions_array))"
   ]
  },
  {
   "cell_type": "code",
   "execution_count": 21,
   "metadata": {},
   "outputs": [],
   "source": [
    "clf.delete_endpoint()"
   ]
  },
  {
   "cell_type": "code",
   "execution_count": null,
   "metadata": {},
   "outputs": [],
   "source": []
  }
 ],
 "metadata": {
  "kernelspec": {
   "display_name": "conda_python3",
   "language": "python",
   "name": "conda_python3"
  },
  "language_info": {
   "codemirror_mode": {
    "name": "ipython",
    "version": 3
   },
   "file_extension": ".py",
   "mimetype": "text/x-python",
   "name": "python",
   "nbconvert_exporter": "python",
   "pygments_lexer": "ipython3",
   "version": "3.6.5"
  }
 },
 "nbformat": 4,
 "nbformat_minor": 2
}
